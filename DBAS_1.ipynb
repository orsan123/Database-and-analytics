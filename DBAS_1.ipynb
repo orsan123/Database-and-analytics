{
  "nbformat": 4,
  "nbformat_minor": 0,
  "metadata": {
    "colab": {
      "provenance": [],
      "authorship_tag": "ABX9TyNYe0uYdJyMQN0hhqN1UEw8",
      "include_colab_link": true
    },
    "kernelspec": {
      "name": "python3",
      "display_name": "Python 3"
    },
    "language_info": {
      "name": "python"
    }
  },
  "cells": [
    {
      "cell_type": "markdown",
      "metadata": {
        "id": "view-in-github",
        "colab_type": "text"
      },
      "source": [
        "<a href=\"https://colab.research.google.com/github/orsan123/Database-and-analytics/blob/main/DBAS_1.ipynb\" target=\"_parent\"><img src=\"https://colab.research.google.com/assets/colab-badge.svg\" alt=\"Open In Colab\"/></a>"
      ]
    },
    {
      "cell_type": "code",
      "source": [
        "import pandas as pd\n",
        "\n",
        "file = '/content/greenfuture_ideas_dataset.csv'\n",
        "df = pd.read_csv(file)\n",
        "\n",
        "#diplaying the first few rows\n",
        "df.head()\n"
      ],
      "metadata": {
        "id": "Xso1ft21xloW",
        "colab": {
          "base_uri": "https://localhost:8080/",
          "height": 293
        },
        "outputId": "f13a3c23-344f-43b1-aeb4-47348be4c8b9"
      },
      "execution_count": 4,
      "outputs": [
        {
          "output_type": "execute_result",
          "data": {
            "text/plain": [
              "  EmployeeID OfficeLocation            Department IdeaSubmissionDate  \\\n",
              "0   587b45d8        Germany      Renewable Energy         16/04/2024   \n",
              "1   0d3e8b8e         Canada      Renewable Energy         14/01/2024   \n",
              "2   fa012fe7         France  Environmental Policy          10/1/2025   \n",
              "3   cb8ed680          Japan            Technology         24/12/2023   \n",
              "4   333fff26      Australia            Technology         13/02/2025   \n",
              "\n",
              "  IdeaTitle           IdeaCategory  NumberofVotes  CollaborationStatus  \\\n",
              "0    Idea 1  Sustainable Transport            231   Single Contributor   \n",
              "1    Idea 2       Water Management            477  Cross-Regional Team   \n",
              "2    Idea 3       Renewable Energy             48  Cross-Regional Team   \n",
              "3    Idea 4       Circular Economy            330  Cross-Regional Team   \n",
              "4    Idea 5       Circular Economy            428   Single Contributor   \n",
              "\n",
              "  ApprovalStatus ImplementationStatus SecurityConcernFlag  \n",
              "0        Pending          Not Started                  No  \n",
              "1       Approved          In Progress                  No  \n",
              "2       Approved          Not Started                 Yes  \n",
              "3       Approved            Completed                  No  \n",
              "4       Approved          Not Started                  No  "
            ],
            "text/html": [
              "\n",
              "  <div id=\"df-ff1ea559-9202-4b00-80eb-696b5a7babb2\" class=\"colab-df-container\">\n",
              "    <div>\n",
              "<style scoped>\n",
              "    .dataframe tbody tr th:only-of-type {\n",
              "        vertical-align: middle;\n",
              "    }\n",
              "\n",
              "    .dataframe tbody tr th {\n",
              "        vertical-align: top;\n",
              "    }\n",
              "\n",
              "    .dataframe thead th {\n",
              "        text-align: right;\n",
              "    }\n",
              "</style>\n",
              "<table border=\"1\" class=\"dataframe\">\n",
              "  <thead>\n",
              "    <tr style=\"text-align: right;\">\n",
              "      <th></th>\n",
              "      <th>EmployeeID</th>\n",
              "      <th>OfficeLocation</th>\n",
              "      <th>Department</th>\n",
              "      <th>IdeaSubmissionDate</th>\n",
              "      <th>IdeaTitle</th>\n",
              "      <th>IdeaCategory</th>\n",
              "      <th>NumberofVotes</th>\n",
              "      <th>CollaborationStatus</th>\n",
              "      <th>ApprovalStatus</th>\n",
              "      <th>ImplementationStatus</th>\n",
              "      <th>SecurityConcernFlag</th>\n",
              "    </tr>\n",
              "  </thead>\n",
              "  <tbody>\n",
              "    <tr>\n",
              "      <th>0</th>\n",
              "      <td>587b45d8</td>\n",
              "      <td>Germany</td>\n",
              "      <td>Renewable Energy</td>\n",
              "      <td>16/04/2024</td>\n",
              "      <td>Idea 1</td>\n",
              "      <td>Sustainable Transport</td>\n",
              "      <td>231</td>\n",
              "      <td>Single Contributor</td>\n",
              "      <td>Pending</td>\n",
              "      <td>Not Started</td>\n",
              "      <td>No</td>\n",
              "    </tr>\n",
              "    <tr>\n",
              "      <th>1</th>\n",
              "      <td>0d3e8b8e</td>\n",
              "      <td>Canada</td>\n",
              "      <td>Renewable Energy</td>\n",
              "      <td>14/01/2024</td>\n",
              "      <td>Idea 2</td>\n",
              "      <td>Water Management</td>\n",
              "      <td>477</td>\n",
              "      <td>Cross-Regional Team</td>\n",
              "      <td>Approved</td>\n",
              "      <td>In Progress</td>\n",
              "      <td>No</td>\n",
              "    </tr>\n",
              "    <tr>\n",
              "      <th>2</th>\n",
              "      <td>fa012fe7</td>\n",
              "      <td>France</td>\n",
              "      <td>Environmental Policy</td>\n",
              "      <td>10/1/2025</td>\n",
              "      <td>Idea 3</td>\n",
              "      <td>Renewable Energy</td>\n",
              "      <td>48</td>\n",
              "      <td>Cross-Regional Team</td>\n",
              "      <td>Approved</td>\n",
              "      <td>Not Started</td>\n",
              "      <td>Yes</td>\n",
              "    </tr>\n",
              "    <tr>\n",
              "      <th>3</th>\n",
              "      <td>cb8ed680</td>\n",
              "      <td>Japan</td>\n",
              "      <td>Technology</td>\n",
              "      <td>24/12/2023</td>\n",
              "      <td>Idea 4</td>\n",
              "      <td>Circular Economy</td>\n",
              "      <td>330</td>\n",
              "      <td>Cross-Regional Team</td>\n",
              "      <td>Approved</td>\n",
              "      <td>Completed</td>\n",
              "      <td>No</td>\n",
              "    </tr>\n",
              "    <tr>\n",
              "      <th>4</th>\n",
              "      <td>333fff26</td>\n",
              "      <td>Australia</td>\n",
              "      <td>Technology</td>\n",
              "      <td>13/02/2025</td>\n",
              "      <td>Idea 5</td>\n",
              "      <td>Circular Economy</td>\n",
              "      <td>428</td>\n",
              "      <td>Single Contributor</td>\n",
              "      <td>Approved</td>\n",
              "      <td>Not Started</td>\n",
              "      <td>No</td>\n",
              "    </tr>\n",
              "  </tbody>\n",
              "</table>\n",
              "</div>\n",
              "    <div class=\"colab-df-buttons\">\n",
              "\n",
              "  <div class=\"colab-df-container\">\n",
              "    <button class=\"colab-df-convert\" onclick=\"convertToInteractive('df-ff1ea559-9202-4b00-80eb-696b5a7babb2')\"\n",
              "            title=\"Convert this dataframe to an interactive table.\"\n",
              "            style=\"display:none;\">\n",
              "\n",
              "  <svg xmlns=\"http://www.w3.org/2000/svg\" height=\"24px\" viewBox=\"0 -960 960 960\">\n",
              "    <path d=\"M120-120v-720h720v720H120Zm60-500h600v-160H180v160Zm220 220h160v-160H400v160Zm0 220h160v-160H400v160ZM180-400h160v-160H180v160Zm440 0h160v-160H620v160ZM180-180h160v-160H180v160Zm440 0h160v-160H620v160Z\"/>\n",
              "  </svg>\n",
              "    </button>\n",
              "\n",
              "  <style>\n",
              "    .colab-df-container {\n",
              "      display:flex;\n",
              "      gap: 12px;\n",
              "    }\n",
              "\n",
              "    .colab-df-convert {\n",
              "      background-color: #E8F0FE;\n",
              "      border: none;\n",
              "      border-radius: 50%;\n",
              "      cursor: pointer;\n",
              "      display: none;\n",
              "      fill: #1967D2;\n",
              "      height: 32px;\n",
              "      padding: 0 0 0 0;\n",
              "      width: 32px;\n",
              "    }\n",
              "\n",
              "    .colab-df-convert:hover {\n",
              "      background-color: #E2EBFA;\n",
              "      box-shadow: 0px 1px 2px rgba(60, 64, 67, 0.3), 0px 1px 3px 1px rgba(60, 64, 67, 0.15);\n",
              "      fill: #174EA6;\n",
              "    }\n",
              "\n",
              "    .colab-df-buttons div {\n",
              "      margin-bottom: 4px;\n",
              "    }\n",
              "\n",
              "    [theme=dark] .colab-df-convert {\n",
              "      background-color: #3B4455;\n",
              "      fill: #D2E3FC;\n",
              "    }\n",
              "\n",
              "    [theme=dark] .colab-df-convert:hover {\n",
              "      background-color: #434B5C;\n",
              "      box-shadow: 0px 1px 3px 1px rgba(0, 0, 0, 0.15);\n",
              "      filter: drop-shadow(0px 1px 2px rgba(0, 0, 0, 0.3));\n",
              "      fill: #FFFFFF;\n",
              "    }\n",
              "  </style>\n",
              "\n",
              "    <script>\n",
              "      const buttonEl =\n",
              "        document.querySelector('#df-ff1ea559-9202-4b00-80eb-696b5a7babb2 button.colab-df-convert');\n",
              "      buttonEl.style.display =\n",
              "        google.colab.kernel.accessAllowed ? 'block' : 'none';\n",
              "\n",
              "      async function convertToInteractive(key) {\n",
              "        const element = document.querySelector('#df-ff1ea559-9202-4b00-80eb-696b5a7babb2');\n",
              "        const dataTable =\n",
              "          await google.colab.kernel.invokeFunction('convertToInteractive',\n",
              "                                                    [key], {});\n",
              "        if (!dataTable) return;\n",
              "\n",
              "        const docLinkHtml = 'Like what you see? Visit the ' +\n",
              "          '<a target=\"_blank\" href=https://colab.research.google.com/notebooks/data_table.ipynb>data table notebook</a>'\n",
              "          + ' to learn more about interactive tables.';\n",
              "        element.innerHTML = '';\n",
              "        dataTable['output_type'] = 'display_data';\n",
              "        await google.colab.output.renderOutput(dataTable, element);\n",
              "        const docLink = document.createElement('div');\n",
              "        docLink.innerHTML = docLinkHtml;\n",
              "        element.appendChild(docLink);\n",
              "      }\n",
              "    </script>\n",
              "  </div>\n",
              "\n",
              "\n",
              "<div id=\"df-eb352fb4-a3b8-4fcc-b4ce-7161c2537579\">\n",
              "  <button class=\"colab-df-quickchart\" onclick=\"quickchart('df-eb352fb4-a3b8-4fcc-b4ce-7161c2537579')\"\n",
              "            title=\"Suggest charts\"\n",
              "            style=\"display:none;\">\n",
              "\n",
              "<svg xmlns=\"http://www.w3.org/2000/svg\" height=\"24px\"viewBox=\"0 0 24 24\"\n",
              "     width=\"24px\">\n",
              "    <g>\n",
              "        <path d=\"M19 3H5c-1.1 0-2 .9-2 2v14c0 1.1.9 2 2 2h14c1.1 0 2-.9 2-2V5c0-1.1-.9-2-2-2zM9 17H7v-7h2v7zm4 0h-2V7h2v10zm4 0h-2v-4h2v4z\"/>\n",
              "    </g>\n",
              "</svg>\n",
              "  </button>\n",
              "\n",
              "<style>\n",
              "  .colab-df-quickchart {\n",
              "      --bg-color: #E8F0FE;\n",
              "      --fill-color: #1967D2;\n",
              "      --hover-bg-color: #E2EBFA;\n",
              "      --hover-fill-color: #174EA6;\n",
              "      --disabled-fill-color: #AAA;\n",
              "      --disabled-bg-color: #DDD;\n",
              "  }\n",
              "\n",
              "  [theme=dark] .colab-df-quickchart {\n",
              "      --bg-color: #3B4455;\n",
              "      --fill-color: #D2E3FC;\n",
              "      --hover-bg-color: #434B5C;\n",
              "      --hover-fill-color: #FFFFFF;\n",
              "      --disabled-bg-color: #3B4455;\n",
              "      --disabled-fill-color: #666;\n",
              "  }\n",
              "\n",
              "  .colab-df-quickchart {\n",
              "    background-color: var(--bg-color);\n",
              "    border: none;\n",
              "    border-radius: 50%;\n",
              "    cursor: pointer;\n",
              "    display: none;\n",
              "    fill: var(--fill-color);\n",
              "    height: 32px;\n",
              "    padding: 0;\n",
              "    width: 32px;\n",
              "  }\n",
              "\n",
              "  .colab-df-quickchart:hover {\n",
              "    background-color: var(--hover-bg-color);\n",
              "    box-shadow: 0 1px 2px rgba(60, 64, 67, 0.3), 0 1px 3px 1px rgba(60, 64, 67, 0.15);\n",
              "    fill: var(--button-hover-fill-color);\n",
              "  }\n",
              "\n",
              "  .colab-df-quickchart-complete:disabled,\n",
              "  .colab-df-quickchart-complete:disabled:hover {\n",
              "    background-color: var(--disabled-bg-color);\n",
              "    fill: var(--disabled-fill-color);\n",
              "    box-shadow: none;\n",
              "  }\n",
              "\n",
              "  .colab-df-spinner {\n",
              "    border: 2px solid var(--fill-color);\n",
              "    border-color: transparent;\n",
              "    border-bottom-color: var(--fill-color);\n",
              "    animation:\n",
              "      spin 1s steps(1) infinite;\n",
              "  }\n",
              "\n",
              "  @keyframes spin {\n",
              "    0% {\n",
              "      border-color: transparent;\n",
              "      border-bottom-color: var(--fill-color);\n",
              "      border-left-color: var(--fill-color);\n",
              "    }\n",
              "    20% {\n",
              "      border-color: transparent;\n",
              "      border-left-color: var(--fill-color);\n",
              "      border-top-color: var(--fill-color);\n",
              "    }\n",
              "    30% {\n",
              "      border-color: transparent;\n",
              "      border-left-color: var(--fill-color);\n",
              "      border-top-color: var(--fill-color);\n",
              "      border-right-color: var(--fill-color);\n",
              "    }\n",
              "    40% {\n",
              "      border-color: transparent;\n",
              "      border-right-color: var(--fill-color);\n",
              "      border-top-color: var(--fill-color);\n",
              "    }\n",
              "    60% {\n",
              "      border-color: transparent;\n",
              "      border-right-color: var(--fill-color);\n",
              "    }\n",
              "    80% {\n",
              "      border-color: transparent;\n",
              "      border-right-color: var(--fill-color);\n",
              "      border-bottom-color: var(--fill-color);\n",
              "    }\n",
              "    90% {\n",
              "      border-color: transparent;\n",
              "      border-bottom-color: var(--fill-color);\n",
              "    }\n",
              "  }\n",
              "</style>\n",
              "\n",
              "  <script>\n",
              "    async function quickchart(key) {\n",
              "      const quickchartButtonEl =\n",
              "        document.querySelector('#' + key + ' button');\n",
              "      quickchartButtonEl.disabled = true;  // To prevent multiple clicks.\n",
              "      quickchartButtonEl.classList.add('colab-df-spinner');\n",
              "      try {\n",
              "        const charts = await google.colab.kernel.invokeFunction(\n",
              "            'suggestCharts', [key], {});\n",
              "      } catch (error) {\n",
              "        console.error('Error during call to suggestCharts:', error);\n",
              "      }\n",
              "      quickchartButtonEl.classList.remove('colab-df-spinner');\n",
              "      quickchartButtonEl.classList.add('colab-df-quickchart-complete');\n",
              "    }\n",
              "    (() => {\n",
              "      let quickchartButtonEl =\n",
              "        document.querySelector('#df-eb352fb4-a3b8-4fcc-b4ce-7161c2537579 button');\n",
              "      quickchartButtonEl.style.display =\n",
              "        google.colab.kernel.accessAllowed ? 'block' : 'none';\n",
              "    })();\n",
              "  </script>\n",
              "</div>\n",
              "\n",
              "    </div>\n",
              "  </div>\n"
            ],
            "application/vnd.google.colaboratory.intrinsic+json": {
              "type": "dataframe",
              "variable_name": "df",
              "summary": "{\n  \"name\": \"df\",\n  \"rows\": 3000,\n  \"fields\": [\n    {\n      \"column\": \"EmployeeID\",\n      \"properties\": {\n        \"dtype\": \"string\",\n        \"num_unique_values\": 3000,\n        \"samples\": [\n          \"a075ce3a\",\n          \"b389ebcf\",\n          \"56da0396\"\n        ],\n        \"semantic_type\": \"\",\n        \"description\": \"\"\n      }\n    },\n    {\n      \"column\": \"OfficeLocation\",\n      \"properties\": {\n        \"dtype\": \"category\",\n        \"num_unique_values\": 12,\n        \"samples\": [\n          \"UK\",\n          \"China\",\n          \"Germany\"\n        ],\n        \"semantic_type\": \"\",\n        \"description\": \"\"\n      }\n    },\n    {\n      \"column\": \"Department\",\n      \"properties\": {\n        \"dtype\": \"category\",\n        \"num_unique_values\": 6,\n        \"samples\": [\n          \"Renewable Energy\",\n          \"Environmental Policy\",\n          \"Urban Development\"\n        ],\n        \"semantic_type\": \"\",\n        \"description\": \"\"\n      }\n    },\n    {\n      \"column\": \"IdeaSubmissionDate\",\n      \"properties\": {\n        \"dtype\": \"object\",\n        \"num_unique_values\": 714,\n        \"samples\": [\n          \"22/06/2023\",\n          \"21/01/2025\",\n          \"29/04/2023\"\n        ],\n        \"semantic_type\": \"\",\n        \"description\": \"\"\n      }\n    },\n    {\n      \"column\": \"IdeaTitle\",\n      \"properties\": {\n        \"dtype\": \"string\",\n        \"num_unique_values\": 3000,\n        \"samples\": [\n          \"Idea 1802\",\n          \"Idea 1191\",\n          \"Idea 1818\"\n        ],\n        \"semantic_type\": \"\",\n        \"description\": \"\"\n      }\n    },\n    {\n      \"column\": \"IdeaCategory\",\n      \"properties\": {\n        \"dtype\": \"category\",\n        \"num_unique_values\": 6,\n        \"samples\": [\n          \"Sustainable Transport\",\n          \"Water Management\",\n          \"Smart Cities\"\n        ],\n        \"semantic_type\": \"\",\n        \"description\": \"\"\n      }\n    },\n    {\n      \"column\": \"NumberofVotes\",\n      \"properties\": {\n        \"dtype\": \"number\",\n        \"std\": 143,\n        \"min\": 0,\n        \"max\": 500,\n        \"num_unique_values\": 499,\n        \"samples\": [\n          488,\n          495,\n          480\n        ],\n        \"semantic_type\": \"\",\n        \"description\": \"\"\n      }\n    },\n    {\n      \"column\": \"CollaborationStatus\",\n      \"properties\": {\n        \"dtype\": \"category\",\n        \"num_unique_values\": 2,\n        \"samples\": [\n          \"Cross-Regional Team\",\n          \"Single Contributor\"\n        ],\n        \"semantic_type\": \"\",\n        \"description\": \"\"\n      }\n    },\n    {\n      \"column\": \"ApprovalStatus\",\n      \"properties\": {\n        \"dtype\": \"category\",\n        \"num_unique_values\": 3,\n        \"samples\": [\n          \"Pending\",\n          \"Approved\"\n        ],\n        \"semantic_type\": \"\",\n        \"description\": \"\"\n      }\n    },\n    {\n      \"column\": \"ImplementationStatus\",\n      \"properties\": {\n        \"dtype\": \"category\",\n        \"num_unique_values\": 3,\n        \"samples\": [\n          \"Not Started\",\n          \"In Progress\"\n        ],\n        \"semantic_type\": \"\",\n        \"description\": \"\"\n      }\n    },\n    {\n      \"column\": \"SecurityConcernFlag\",\n      \"properties\": {\n        \"dtype\": \"category\",\n        \"num_unique_values\": 2,\n        \"samples\": [\n          \"Yes\",\n          \"No\"\n        ],\n        \"semantic_type\": \"\",\n        \"description\": \"\"\n      }\n    }\n  ]\n}"
            }
          },
          "metadata": {},
          "execution_count": 4
        }
      ]
    },
    {
      "cell_type": "code",
      "source": [
        "import sqlite3\n",
        "\n",
        "# Create in-memory SQL DB\n",
        "conn = sqlite3.connect(':memory:')\n",
        "df.to_sql('ideas', conn, index=False, if_exists='replace')\n",
        "\n",
        "# SELECT\n",
        "pd.read_sql(\"SELECT * FROM ideas LIMIT 5;\", conn)\n",
        "\n",
        "# INSERT\n",
        "conn.execute(\"INSERT INTO ideas ('EmployeeID', 'OfficeLocation', 'Department', 'IdeaSubmissionDate', 'IdeaTitle', 'IdeaCategory', 'NumberOfVotes', 'CollaborationStatus', 'ApprovalStatus', 'ImplementationStatus', 'SecurityConcernFlag') VALUES ('E3001', 'Dubai', 'Energy', '2025-04-01', 'Solar Paints', 'Renewable Energy', 20, 'Yes', 'Pending', 'Not Started', 'No');\")\n",
        "\n",
        "# UPDATE\n",
        "conn.execute(\"UPDATE ideas SET 'ApprovalStatus' = 'Approved' WHERE 'EmployeeID' = 'E3001';\")\n",
        "\n",
        "# DELETE\n",
        "conn.execute(\"DELETE FROM ideas WHERE 'EmployeeID' = 'E3001';\")\n"
      ],
      "metadata": {
        "id": "GWP3z2gVytSS"
      },
      "execution_count": null,
      "outputs": []
    },
    {
      "cell_type": "code",
      "source": [
        "install.packages(\"sqldf\")"
      ],
      "metadata": {
        "id": "ev2gX4LP1j3R",
        "colab": {
          "base_uri": "https://localhost:8080/"
        },
        "outputId": "921e690f-ad7b-4a94-8111-d2249b1de113"
      },
      "execution_count": 1,
      "outputs": [
        {
          "output_type": "stream",
          "name": "stderr",
          "text": [
            "Installing package into ‘/usr/local/lib/R/site-library’\n",
            "(as ‘lib’ is unspecified)\n",
            "\n"
          ]
        }
      ]
    },
    {
      "cell_type": "code",
      "source": [
        "library(sqldf)\n",
        "\n",
        "# Load dataset\n",
        "df <- read.csv(\"/content/greenfuture_ideas_dataset.csv\")\n",
        "\n",
        "# 1. Total idea submissions per office\n",
        "sqldf(\"SELECT OfficeLocation, COUNT(*) as total_ideas FROM df GROUP BY OfficeLocation ORDER BY total_ideas DESC\")\n",
        "\n",
        "# 2. Average number of votes per department\n",
        "sqldf(\"SELECT Department, AVG(NumberofVotes) as avg_votes FROM df GROUP BY department ORDER BY avg_votes DESC\")\n",
        "\n",
        "# 3. Collaboration rate by office\n",
        "sqldf(\"SELECT OfficeLocation,\n",
        "              COUNT(*) as total,\n",
        "              SUM(CASE WHEN CollaborationStatus = 'Yes' THEN 1 ELSE 0 END)*100.0/COUNT(*) as collab_percent\n",
        "       FROM df\n",
        "       GROUP BY OfficeLocation\")\n",
        "\n",
        "# 4. Approval rate of ideas with/without security concerns\n",
        "sqldf(\"SELECT SecurityConcernFlag,\n",
        "              COUNT(*) as total,\n",
        "              SUM(CASE WHEN ApprovalStatus = 'Approved' THEN 1 ELSE 0 END)*100.0/COUNT(*) as approval_percent\n",
        "       FROM df GROUP BY SecurityConcernFlag\")\n"
      ],
      "metadata": {
        "id": "XMGhkVjjzjMo",
        "colab": {
          "base_uri": "https://localhost:8080/",
          "height": 1000
        },
        "outputId": "bff58102-e019-4472-c64c-394af4bc9e47"
      },
      "execution_count": 2,
      "outputs": [
        {
          "output_type": "stream",
          "name": "stderr",
          "text": [
            "Loading required package: gsubfn\n",
            "\n",
            "Loading required package: proto\n",
            "\n",
            "Warning message:\n",
            "“no DISPLAY variable so Tk is not available”\n",
            "Loading required package: RSQLite\n",
            "\n"
          ]
        },
        {
          "output_type": "display_data",
          "data": {
            "text/html": [
              "<table class=\"dataframe\">\n",
              "<caption>A data.frame: 12 × 2</caption>\n",
              "<thead>\n",
              "\t<tr><th scope=col>OfficeLocation</th><th scope=col>total_ideas</th></tr>\n",
              "\t<tr><th scope=col>&lt;chr&gt;</th><th scope=col>&lt;int&gt;</th></tr>\n",
              "</thead>\n",
              "<tbody>\n",
              "\t<tr><td>China       </td><td>280</td></tr>\n",
              "\t<tr><td>France      </td><td>266</td></tr>\n",
              "\t<tr><td>South Africa</td><td>260</td></tr>\n",
              "\t<tr><td>Japan       </td><td>259</td></tr>\n",
              "\t<tr><td>UK          </td><td>257</td></tr>\n",
              "\t<tr><td>Germany     </td><td>252</td></tr>\n",
              "\t<tr><td>Canada      </td><td>252</td></tr>\n",
              "\t<tr><td>Australia   </td><td>244</td></tr>\n",
              "\t<tr><td>USA         </td><td>241</td></tr>\n",
              "\t<tr><td>Mexico      </td><td>240</td></tr>\n",
              "\t<tr><td>Brazil      </td><td>227</td></tr>\n",
              "\t<tr><td>India       </td><td>222</td></tr>\n",
              "</tbody>\n",
              "</table>\n"
            ],
            "text/markdown": "\nA data.frame: 12 × 2\n\n| OfficeLocation &lt;chr&gt; | total_ideas &lt;int&gt; |\n|---|---|\n| China        | 280 |\n| France       | 266 |\n| South Africa | 260 |\n| Japan        | 259 |\n| UK           | 257 |\n| Germany      | 252 |\n| Canada       | 252 |\n| Australia    | 244 |\n| USA          | 241 |\n| Mexico       | 240 |\n| Brazil       | 227 |\n| India        | 222 |\n\n",
            "text/latex": "A data.frame: 12 × 2\n\\begin{tabular}{ll}\n OfficeLocation & total\\_ideas\\\\\n <chr> & <int>\\\\\n\\hline\n\t China        & 280\\\\\n\t France       & 266\\\\\n\t South Africa & 260\\\\\n\t Japan        & 259\\\\\n\t UK           & 257\\\\\n\t Germany      & 252\\\\\n\t Canada       & 252\\\\\n\t Australia    & 244\\\\\n\t USA          & 241\\\\\n\t Mexico       & 240\\\\\n\t Brazil       & 227\\\\\n\t India        & 222\\\\\n\\end{tabular}\n",
            "text/plain": [
              "   OfficeLocation total_ideas\n",
              "1  China          280        \n",
              "2  France         266        \n",
              "3  South Africa   260        \n",
              "4  Japan          259        \n",
              "5  UK             257        \n",
              "6  Germany        252        \n",
              "7  Canada         252        \n",
              "8  Australia      244        \n",
              "9  USA            241        \n",
              "10 Mexico         240        \n",
              "11 Brazil         227        \n",
              "12 India          222        "
            ]
          },
          "metadata": {}
        },
        {
          "output_type": "display_data",
          "data": {
            "text/html": [
              "<table class=\"dataframe\">\n",
              "<caption>A data.frame: 6 × 2</caption>\n",
              "<thead>\n",
              "\t<tr><th scope=col>Department</th><th scope=col>avg_votes</th></tr>\n",
              "\t<tr><th scope=col>&lt;chr&gt;</th><th scope=col>&lt;dbl&gt;</th></tr>\n",
              "</thead>\n",
              "<tbody>\n",
              "\t<tr><td>Environmental Policy</td><td>252.9259</td></tr>\n",
              "\t<tr><td>Urban Development   </td><td>250.7551</td></tr>\n",
              "\t<tr><td>Research            </td><td>248.5803</td></tr>\n",
              "\t<tr><td>Technology          </td><td>248.0460</td></tr>\n",
              "\t<tr><td>Renewable Energy    </td><td>246.6316</td></tr>\n",
              "\t<tr><td>Infrastructure      </td><td>243.6892</td></tr>\n",
              "</tbody>\n",
              "</table>\n"
            ],
            "text/markdown": "\nA data.frame: 6 × 2\n\n| Department &lt;chr&gt; | avg_votes &lt;dbl&gt; |\n|---|---|\n| Environmental Policy | 252.9259 |\n| Urban Development    | 250.7551 |\n| Research             | 248.5803 |\n| Technology           | 248.0460 |\n| Renewable Energy     | 246.6316 |\n| Infrastructure       | 243.6892 |\n\n",
            "text/latex": "A data.frame: 6 × 2\n\\begin{tabular}{ll}\n Department & avg\\_votes\\\\\n <chr> & <dbl>\\\\\n\\hline\n\t Environmental Policy & 252.9259\\\\\n\t Urban Development    & 250.7551\\\\\n\t Research             & 248.5803\\\\\n\t Technology           & 248.0460\\\\\n\t Renewable Energy     & 246.6316\\\\\n\t Infrastructure       & 243.6892\\\\\n\\end{tabular}\n",
            "text/plain": [
              "  Department           avg_votes\n",
              "1 Environmental Policy 252.9259 \n",
              "2 Urban Development    250.7551 \n",
              "3 Research             248.5803 \n",
              "4 Technology           248.0460 \n",
              "5 Renewable Energy     246.6316 \n",
              "6 Infrastructure       243.6892 "
            ]
          },
          "metadata": {}
        },
        {
          "output_type": "display_data",
          "data": {
            "text/html": [
              "<table class=\"dataframe\">\n",
              "<caption>A data.frame: 12 × 3</caption>\n",
              "<thead>\n",
              "\t<tr><th scope=col>OfficeLocation</th><th scope=col>total</th><th scope=col>collab_percent</th></tr>\n",
              "\t<tr><th scope=col>&lt;chr&gt;</th><th scope=col>&lt;int&gt;</th><th scope=col>&lt;dbl&gt;</th></tr>\n",
              "</thead>\n",
              "<tbody>\n",
              "\t<tr><td>Australia   </td><td>244</td><td>0</td></tr>\n",
              "\t<tr><td>Brazil      </td><td>227</td><td>0</td></tr>\n",
              "\t<tr><td>Canada      </td><td>252</td><td>0</td></tr>\n",
              "\t<tr><td>China       </td><td>280</td><td>0</td></tr>\n",
              "\t<tr><td>France      </td><td>266</td><td>0</td></tr>\n",
              "\t<tr><td>Germany     </td><td>252</td><td>0</td></tr>\n",
              "\t<tr><td>India       </td><td>222</td><td>0</td></tr>\n",
              "\t<tr><td>Japan       </td><td>259</td><td>0</td></tr>\n",
              "\t<tr><td>Mexico      </td><td>240</td><td>0</td></tr>\n",
              "\t<tr><td>South Africa</td><td>260</td><td>0</td></tr>\n",
              "\t<tr><td>UK          </td><td>257</td><td>0</td></tr>\n",
              "\t<tr><td>USA         </td><td>241</td><td>0</td></tr>\n",
              "</tbody>\n",
              "</table>\n"
            ],
            "text/markdown": "\nA data.frame: 12 × 3\n\n| OfficeLocation &lt;chr&gt; | total &lt;int&gt; | collab_percent &lt;dbl&gt; |\n|---|---|---|\n| Australia    | 244 | 0 |\n| Brazil       | 227 | 0 |\n| Canada       | 252 | 0 |\n| China        | 280 | 0 |\n| France       | 266 | 0 |\n| Germany      | 252 | 0 |\n| India        | 222 | 0 |\n| Japan        | 259 | 0 |\n| Mexico       | 240 | 0 |\n| South Africa | 260 | 0 |\n| UK           | 257 | 0 |\n| USA          | 241 | 0 |\n\n",
            "text/latex": "A data.frame: 12 × 3\n\\begin{tabular}{lll}\n OfficeLocation & total & collab\\_percent\\\\\n <chr> & <int> & <dbl>\\\\\n\\hline\n\t Australia    & 244 & 0\\\\\n\t Brazil       & 227 & 0\\\\\n\t Canada       & 252 & 0\\\\\n\t China        & 280 & 0\\\\\n\t France       & 266 & 0\\\\\n\t Germany      & 252 & 0\\\\\n\t India        & 222 & 0\\\\\n\t Japan        & 259 & 0\\\\\n\t Mexico       & 240 & 0\\\\\n\t South Africa & 260 & 0\\\\\n\t UK           & 257 & 0\\\\\n\t USA          & 241 & 0\\\\\n\\end{tabular}\n",
            "text/plain": [
              "   OfficeLocation total collab_percent\n",
              "1  Australia      244   0             \n",
              "2  Brazil         227   0             \n",
              "3  Canada         252   0             \n",
              "4  China          280   0             \n",
              "5  France         266   0             \n",
              "6  Germany        252   0             \n",
              "7  India          222   0             \n",
              "8  Japan          259   0             \n",
              "9  Mexico         240   0             \n",
              "10 South Africa   260   0             \n",
              "11 UK             257   0             \n",
              "12 USA            241   0             "
            ]
          },
          "metadata": {}
        },
        {
          "output_type": "display_data",
          "data": {
            "text/html": [
              "<table class=\"dataframe\">\n",
              "<caption>A data.frame: 2 × 3</caption>\n",
              "<thead>\n",
              "\t<tr><th scope=col>SecurityConcernFlag</th><th scope=col>total</th><th scope=col>approval_percent</th></tr>\n",
              "\t<tr><th scope=col>&lt;chr&gt;</th><th scope=col>&lt;int&gt;</th><th scope=col>&lt;dbl&gt;</th></tr>\n",
              "</thead>\n",
              "<tbody>\n",
              "\t<tr><td>No </td><td>2733</td><td>34.83352</td></tr>\n",
              "\t<tr><td>Yes</td><td> 267</td><td>31.83521</td></tr>\n",
              "</tbody>\n",
              "</table>\n"
            ],
            "text/markdown": "\nA data.frame: 2 × 3\n\n| SecurityConcernFlag &lt;chr&gt; | total &lt;int&gt; | approval_percent &lt;dbl&gt; |\n|---|---|---|\n| No  | 2733 | 34.83352 |\n| Yes |  267 | 31.83521 |\n\n",
            "text/latex": "A data.frame: 2 × 3\n\\begin{tabular}{lll}\n SecurityConcernFlag & total & approval\\_percent\\\\\n <chr> & <int> & <dbl>\\\\\n\\hline\n\t No  & 2733 & 34.83352\\\\\n\t Yes &  267 & 31.83521\\\\\n\\end{tabular}\n",
            "text/plain": [
              "  SecurityConcernFlag total approval_percent\n",
              "1 No                  2733  34.83352        \n",
              "2 Yes                  267  31.83521        "
            ]
          },
          "metadata": {}
        }
      ]
    },
    {
      "cell_type": "code",
      "source": [
        "library(dplyr)\n",
        "\n",
        "# Filter: Only approved ideas\n",
        "approved_ideas <- df %>% filter(ApprovalStatus == \"Approved\")\n",
        "\n",
        "# Mutate: Add a new column 'high_votes' for ideas with more than 50 votes\n",
        "df <- df %>% mutate(high_votes = ifelse(NumberofVotes > 50, \"Yes\", \"No\"))\n",
        "\n",
        "# Summarise: Total ideas and average votes per category\n",
        "df %>% group_by(IdeaCategory) %>% summarise(total = n(), avg_votes = mean(NumberofVotes))\n"
      ],
      "metadata": {
        "id": "UJde07I706A2",
        "colab": {
          "base_uri": "https://localhost:8080/",
          "height": 529
        },
        "outputId": "373cd050-2c5f-44dc-8341-a392869be6b5"
      },
      "execution_count": 3,
      "outputs": [
        {
          "output_type": "stream",
          "name": "stderr",
          "text": [
            "\n",
            "Attaching package: ‘dplyr’\n",
            "\n",
            "\n",
            "The following objects are masked from ‘package:stats’:\n",
            "\n",
            "    filter, lag\n",
            "\n",
            "\n",
            "The following objects are masked from ‘package:base’:\n",
            "\n",
            "    intersect, setdiff, setequal, union\n",
            "\n",
            "\n"
          ]
        },
        {
          "output_type": "display_data",
          "data": {
            "text/html": [
              "<table class=\"dataframe\">\n",
              "<caption>A tibble: 6 × 3</caption>\n",
              "<thead>\n",
              "\t<tr><th scope=col>IdeaCategory</th><th scope=col>total</th><th scope=col>avg_votes</th></tr>\n",
              "\t<tr><th scope=col>&lt;chr&gt;</th><th scope=col>&lt;int&gt;</th><th scope=col>&lt;dbl&gt;</th></tr>\n",
              "</thead>\n",
              "<tbody>\n",
              "\t<tr><td>Carbon Capture       </td><td>478</td><td>249.1674</td></tr>\n",
              "\t<tr><td>Circular Economy     </td><td>496</td><td>245.7742</td></tr>\n",
              "\t<tr><td>Renewable Energy     </td><td>533</td><td>247.8480</td></tr>\n",
              "\t<tr><td>Smart Cities         </td><td>489</td><td>244.7526</td></tr>\n",
              "\t<tr><td>Sustainable Transport</td><td>512</td><td>247.0312</td></tr>\n",
              "\t<tr><td>Water Management     </td><td>492</td><td>255.6382</td></tr>\n",
              "</tbody>\n",
              "</table>\n"
            ],
            "text/markdown": "\nA tibble: 6 × 3\n\n| IdeaCategory &lt;chr&gt; | total &lt;int&gt; | avg_votes &lt;dbl&gt; |\n|---|---|---|\n| Carbon Capture        | 478 | 249.1674 |\n| Circular Economy      | 496 | 245.7742 |\n| Renewable Energy      | 533 | 247.8480 |\n| Smart Cities          | 489 | 244.7526 |\n| Sustainable Transport | 512 | 247.0312 |\n| Water Management      | 492 | 255.6382 |\n\n",
            "text/latex": "A tibble: 6 × 3\n\\begin{tabular}{lll}\n IdeaCategory & total & avg\\_votes\\\\\n <chr> & <int> & <dbl>\\\\\n\\hline\n\t Carbon Capture        & 478 & 249.1674\\\\\n\t Circular Economy      & 496 & 245.7742\\\\\n\t Renewable Energy      & 533 & 247.8480\\\\\n\t Smart Cities          & 489 & 244.7526\\\\\n\t Sustainable Transport & 512 & 247.0312\\\\\n\t Water Management      & 492 & 255.6382\\\\\n\\end{tabular}\n",
            "text/plain": [
              "  IdeaCategory          total avg_votes\n",
              "1 Carbon Capture        478   249.1674 \n",
              "2 Circular Economy      496   245.7742 \n",
              "3 Renewable Energy      533   247.8480 \n",
              "4 Smart Cities          489   244.7526 \n",
              "5 Sustainable Transport 512   247.0312 \n",
              "6 Water Management      492   255.6382 "
            ]
          },
          "metadata": {}
        }
      ]
    },
    {
      "cell_type": "code",
      "source": [
        "library(ggplot2)\n",
        "\n",
        "# 1. Bar Plot: Ideas by Category\n",
        "ggplot(df, aes(x = IdeaCategory)) +\n",
        "  geom_bar(fill = \"skyblue\") +\n",
        "  theme_minimal() +\n",
        "  labs(title = \"Number of Ideas per Category\")\n",
        "\n",
        "# 2. Pie Chart: Collaboration Status Distribution\n",
        "df %>%\n",
        "  count(CollaborationStatus) %>%\n",
        "  ggplot(aes(x = \"\", y = n, fill = CollaborationStatus)) +\n",
        "  geom_col(width = 1) +\n",
        "  coord_polar(\"y\") +\n",
        "  labs(title = \"Collaboration Status Distribution\")\n",
        "\n",
        "# 3. Box Plot: Votes Distribution by Department\n",
        "ggplot(df, aes(x = Department, y = NumberofVotes)) +\n",
        "  geom_boxplot(fill = \"orange\") +\n",
        "  theme_minimal() +\n",
        "  labs(title = \"Votes Distribution by Department\")\n"
      ],
      "metadata": {
        "id": "_rqWYpFG3L0w",
        "colab": {
          "base_uri": "https://localhost:8080/",
          "height": 1000
        },
        "outputId": "b84958dc-0df3-4a75-c845-9a3fdc439a3a"
      },
      "execution_count": 4,
      "outputs": [
        {
          "output_type": "display_data",
          "data": {
            "text/plain": [
              "plot without title"
            ],
            "image/png": "[encoded data removed]"
          },
          "metadata": {
            "image/png": {
              "width": 420,
              "height": 420
            }
          }
        },
        {
          "output_type": "display_data",
          "data": {
            "text/plain": [
              "plot without title"
            ],
            "image/png": "[encoded data removed]"
          },
          "metadata": {
            "image/png": {
              "width": 420,
              "height": 420
            }
          }
        },
        {
          "output_type": "display_data",
          "data": {
            "text/plain": [
              "plot without title"
            ],
            "image/png": "[encoded data removed]"
          },
          "metadata": {
            "image/png": {
              "width": 420,
              "height": 420
            }
          }
        }
      ]
    }
  ]
}